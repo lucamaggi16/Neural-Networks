{
 "cells": [
  {
   "cell_type": "code",
   "execution_count": 1,
   "id": "186a1e71-2eff-45f1-9316-3d7435c24de2",
   "metadata": {
    "tags": []
   },
   "outputs": [],
   "source": [
    "%matplotlib inline\n",
    "\n",
    "import numpy as np\n",
    "import sklearn\n",
    "from sklearn import datasets\n",
    "from sklearn.model_selection import train_test_split\n",
    "from sklearn import preprocessing\n",
    "\n",
    "import pandas as pd\n",
    "from matplotlib import pyplot as plt\n",
    "\n",
    "import tensorflow as tf\n",
    "from tensorflow import keras\n",
    "from tensorflow.keras import layers\n",
    "from keras.models import Sequential\n",
    "from keras.layers.core import Dense, Dropout, Activation, Flatten\n",
    "from keras.layers.noise import GaussianNoise\n",
    "from keras.layers.advanced_activations import PReLU\n",
    "from keras.utils import np_utils\n",
    "import sklearn.neighbors._base\n",
    "import sys\n",
    "\n",
    "sys.modules['sklearn.neighbors.base'] = sklearn.neighbors._base\n",
    "from collections import Counter\n",
    "from sklearn.datasets import make_classification\n",
    "\n",
    "from imblearn.over_sampling import SMOTE\n",
    "\n",
    "from imblearn.under_sampling import RandomUnderSampler\n",
    "from imblearn.pipeline import Pipeline\n",
    "from matplotlib import pyplot\n",
    "from numpy import where\n",
    "import seaborn as sns"
   ]
  },
  {
   "cell_type": "markdown",
   "id": "d5fc1619-4c75-4aaf-9b5f-ccc215223af7",
   "metadata": {},
   "source": [
    "# MNIST digits analysis\n",
    "\n",
    "Design of a CNN architecture and its training, in particular, the CNN has to be designed with the aim of reaching the maximum possible accuracy on the test set, with the hard constraint of a maximum of 6K learnable parameters."
   ]
  },
  {
   "cell_type": "markdown",
   "id": "4d0c7f4f-64f6-46e8-8791-dda9e96913d5",
   "metadata": {},
   "source": [
    "## Report summary\n",
    "The model consists of an input layer, two convolutional layers, two max pooling layers and a dense, non convolutional layer for classification.  \n",
    "In order to respect the constraint on the number of parameters the first convolutional layer is built with 16 nodes, the second convolutional layer has 31 nodes(originally 32 but, in that way, the maximum number of parametrs was exceeded by 59) and the non convolutional layer has 10 nodes. No padding is added in any part of the network.  \n",
    "All the kernel sizes are set to 3x3, the same is true for the pool size in the max pooling layers. This, again, is a choice made to reduce the number of parameters needed. Otherwise a 2x2 pooling would have been better.  \n",
    "By appling this procedure the output shape changes as follows. The first layer, with 160 parameters, reduces the input size from 28x28 to a 26x26, then the first pooling layer performs a second reduction to a 8x8. At this point the second convolutional layer, with 4495 parameters, scales the input down to a 6x6 and, finally, the las pooling operation gives back a 2x2 output. After flattening the image, a neural network with 1250 parameters performs the classification. The total number of parameters is, therefore, 5905.  \n",
    "As for the hyperparameters a relu function is used in each convolutional layer, the final classification, on the other hand, is performed with a softmax function. This choice derives from the multilabel nature of the classification. For the same reason a categorical cross entropy is adopted as a loss function.  \n",
    "Being a classsification problem the metrics kept under observation is the accuracy in the predictions. As an optimizer an adam algorithm is employed, slightly better than the normal gradient descent thanks to its ability to employ the momentum for each step.  \n",
    "The batch size is set at 128 and, in order to keep under control the evolution of the algorithm during the epochs, a validation set is created with a 20% split on the training set.  \n",
    "The regularization techniques employed are two. A dropout procedure on the non convolutional network and an early stopping algorithm for the number of epochs on which the model must be trained. This algorithm determined that after 26 epochs the validation loss does not become any lower, this result is obtained considering a margin of 2 epochs with no improvement (patience). \n",
    "\n",
    "In the plot below the training history is visualized. The validation loss shrinks untill reaching very low levels, while the validation accuracy peaks at more than 98%. The validation loss looks lower than the training loss, this can be explained by the presence of a dropout procedure. During the fitting phase Keras applies this procedure only on the training data, therefore their values become higher.  \n",
    "After the training is completed the model is evaluated on a test set. Total accuracy on new, unseen, data is 98.7%, while the value of the loss function is little more than 0.04.  \n",
    "In order to better assess the model's performance a confusion matrix is plotted. The rows are meant to represent the actual values, while the columns are the values predicted by our model; in each cell it is printed the number of values classified accordingly by the model. The high level of accuracy is easily shown by the extremely high values on the diagonal of the matrix, representing the observations correcly classified and by the low values of each cell outside the diagonal itself."
   ]
  },
  {
   "cell_type": "code",
   "execution_count": 2,
   "id": "e6a4d059-327d-442b-a3e2-7a445b5e918a",
   "metadata": {},
   "outputs": [],
   "source": [
    "# define data\n",
    "num_classes = 10\n",
    "input_shape = (28,28,1)\n",
    "\n",
    "# load data\n",
    "(x_train, y_train), (x_test, y_test) = keras.datasets.mnist.load_data()"
   ]
  },
  {
   "cell_type": "code",
   "execution_count": 3,
   "id": "8a4ce886-5e2d-45d6-99ea-1e0c575cd6e0",
   "metadata": {},
   "outputs": [
    {
     "data": {
      "text/plain": [
       "<matplotlib.image.AxesImage at 0x1cb5152ecc8>"
      ]
     },
     "execution_count": 3,
     "metadata": {},
     "output_type": "execute_result"
    },
    {
     "data": {
      "image/png": "[encoded data removed]",
      "text/plain": [
       "<Figure size 432x288 with 1 Axes>"
      ]
     },
     "metadata": {
      "needs_background": "light"
     },
     "output_type": "display_data"
    }
   ],
   "source": [
    "# example of data\n",
    "plt.imshow(x_train[75])"
   ]
  },
  {
   "cell_type": "code",
   "execution_count": 4,
   "id": "a0dd4ba0-19dc-41b1-844e-b122899f3de8",
   "metadata": {},
   "outputs": [
    {
     "name": "stdout",
     "output_type": "stream",
     "text": [
      "x_train shape: (60000, 28, 28), x_test shape: (10000, 28, 28)\n"
     ]
    }
   ],
   "source": [
    "print(f\"x_train shape: {x_train.shape}, x_test shape: {x_test.shape}\")"
   ]
  },
  {
   "cell_type": "code",
   "execution_count": 5,
   "id": "80c844ab-badf-41a4-8cf7-4ec7e6fb7d29",
   "metadata": {},
   "outputs": [
    {
     "name": "stdout",
     "output_type": "stream",
     "text": [
      "x_train new shape: (60000, 28, 28, 1), x_test new shape: (10000, 28, 28, 1)\n"
     ]
    }
   ],
   "source": [
    "# Scale images from 0 to 1\n",
    "x_train = x_train.astype(\"float32\")/255\n",
    "x_test = x_test.astype(\"float32\")/255\n",
    "\n",
    "x_train = np.expand_dims(x_train, -1)\n",
    "x_test = np.expand_dims(x_test, -1)\n",
    "\n",
    "print(f\"x_train new shape: {x_train.shape}, x_test new shape: {x_test.shape}\")"
   ]
  },
  {
   "cell_type": "code",
   "execution_count": 6,
   "id": "2c02bcbf-4806-4b38-ba4f-79edefd09a19",
   "metadata": {},
   "outputs": [
    {
     "name": "stdout",
     "output_type": "stream",
     "text": [
      "x_train shape: (60000,), x_test shape: (10000,)\n"
     ]
    }
   ],
   "source": [
    "print(f\"y_train shape: {y_train.shape}, y_test shape: {y_test.shape}\")"
   ]
  },
  {
   "cell_type": "code",
   "execution_count": 7,
   "id": "9785ae2d-1bef-4e87-9f00-41f3fe843834",
   "metadata": {},
   "outputs": [
    {
     "name": "stdout",
     "output_type": "stream",
     "text": [
      "x_train shape: (60000, 10), x_test shape: (10000, 10)\n"
     ]
    }
   ],
   "source": [
    "#Convert from one dimensional vectors containing labels of the images to categorical labels, in a one-hot encoding shape\n",
    "y_train = keras.utils.to_categorical(y_train, num_classes)\n",
    "y_test = keras.utils.to_categorical(y_test, num_classes)\n",
    "\n",
    "print(f\"y_train shape: {y_train.shape}, y_test shape: {y_test.shape}\")"
   ]
  },
  {
   "cell_type": "code",
   "execution_count": 8,
   "id": "5ecc9603-a4b8-4e1b-9588-4a8dc654c693",
   "metadata": {},
   "outputs": [
    {
     "name": "stdout",
     "output_type": "stream",
     "text": [
      "Model: \"sequential\"\n",
      "_________________________________________________________________\n",
      "Layer (type)                 Output Shape              Param #   \n",
      "=================================================================\n",
      "conv2d (Conv2D)              (None, 26, 26, 16)        160       \n",
      "_________________________________________________________________\n",
      "max_pooling2d (MaxPooling2D) (None, 8, 8, 16)          0         \n",
      "_________________________________________________________________\n",
      "conv2d_1 (Conv2D)            (None, 6, 6, 31)          4495      \n",
      "_________________________________________________________________\n",
      "max_pooling2d_1 (MaxPooling2 (None, 2, 2, 31)          0         \n",
      "_________________________________________________________________\n",
      "flatten (Flatten)            (None, 124)               0         \n",
      "_________________________________________________________________\n",
      "dropout (Dropout)            (None, 124)               0         \n",
      "_________________________________________________________________\n",
      "dense (Dense)                (None, 10)                1250      \n",
      "=================================================================\n",
      "Total params: 5,905\n",
      "Trainable params: 5,905\n",
      "Non-trainable params: 0\n",
      "_________________________________________________________________\n"
     ]
    }
   ],
   "source": [
    "#define the model\n",
    "model = keras.Sequential (\n",
    "    [\n",
    "        keras.Input(shape = input_shape),\n",
    "        layers.Conv2D(16, kernel_size = (3, 3), activation = \"relu\"), \n",
    "        layers.MaxPooling2D(pool_size=(3, 3)), \n",
    "        layers.Conv2D(31, kernel_size = (3, 3), activation = \"relu\"), \n",
    "        layers.MaxPooling2D(pool_size=(3, 3)), #end of convolution \n",
    "        layers.Flatten(), #destroy data for fully connected network\n",
    "        layers.Dropout(0.5),\n",
    "        layers.Dense(num_classes, activation = \"softmax\") #softmax for multilabel callification task\n",
    "    ]\n",
    ")\n",
    "\n",
    "model.summary()"
   ]
  },
  {
   "cell_type": "code",
   "execution_count": 9,
   "id": "49e1cf29-1dc7-4e93-9427-d29f47a93ba1",
   "metadata": {},
   "outputs": [
    {
     "name": "stdout",
     "output_type": "stream",
     "text": [
      "Epoch 1/1000\n",
      "375/375 [==============================] - 8s 19ms/step - loss: 1.0081 - accuracy: 0.6779 - val_loss: 0.2321 - val_accuracy: 0.9433\n",
      "Epoch 2/1000\n",
      "375/375 [==============================] - 6s 17ms/step - loss: 0.3692 - accuracy: 0.8872 - val_loss: 0.1465 - val_accuracy: 0.9607\n",
      "Epoch 3/1000\n",
      "375/375 [==============================] - 6s 17ms/step - loss: 0.2817 - accuracy: 0.9154 - val_loss: 0.1158 - val_accuracy: 0.9688\n",
      "Epoch 4/1000\n",
      "375/375 [==============================] - 6s 17ms/step - loss: 0.2393 - accuracy: 0.9269 - val_loss: 0.1001 - val_accuracy: 0.9728\n",
      "Epoch 5/1000\n",
      "375/375 [==============================] - 6s 17ms/step - loss: 0.2153 - accuracy: 0.9336 - val_loss: 0.0914 - val_accuracy: 0.9734\n",
      "Epoch 6/1000\n",
      "375/375 [==============================] - 6s 17ms/step - loss: 0.1945 - accuracy: 0.9402 - val_loss: 0.0802 - val_accuracy: 0.9777\n",
      "Epoch 7/1000\n",
      "375/375 [==============================] - 6s 16ms/step - loss: 0.1795 - accuracy: 0.9454 - val_loss: 0.0773 - val_accuracy: 0.9782\n",
      "Epoch 8/1000\n",
      "375/375 [==============================] - 6s 16ms/step - loss: 0.1732 - accuracy: 0.9478 - val_loss: 0.0713 - val_accuracy: 0.9807\n",
      "Epoch 9/1000\n",
      "375/375 [==============================] - 6s 17ms/step - loss: 0.1665 - accuracy: 0.9499 - val_loss: 0.0710 - val_accuracy: 0.9803\n",
      "Epoch 10/1000\n",
      "375/375 [==============================] - 6s 16ms/step - loss: 0.1584 - accuracy: 0.9509 - val_loss: 0.0649 - val_accuracy: 0.9821\n",
      "Epoch 11/1000\n",
      "375/375 [==============================] - 6s 17ms/step - loss: 0.1511 - accuracy: 0.9534 - val_loss: 0.0611 - val_accuracy: 0.9827\n",
      "Epoch 12/1000\n",
      "375/375 [==============================] - 6s 17ms/step - loss: 0.1501 - accuracy: 0.9539 - val_loss: 0.0600 - val_accuracy: 0.9831\n",
      "Epoch 13/1000\n",
      "375/375 [==============================] - 6s 17ms/step - loss: 0.1417 - accuracy: 0.9560 - val_loss: 0.0574 - val_accuracy: 0.9838\n",
      "Epoch 14/1000\n",
      "375/375 [==============================] - 7s 18ms/step - loss: 0.1399 - accuracy: 0.9558 - val_loss: 0.0579 - val_accuracy: 0.9833\n",
      "Epoch 15/1000\n",
      "375/375 [==============================] - 6s 17ms/step - loss: 0.1351 - accuracy: 0.9589 - val_loss: 0.0545 - val_accuracy: 0.9857\n",
      "Epoch 16/1000\n",
      "375/375 [==============================] - 7s 17ms/step - loss: 0.1342 - accuracy: 0.9588 - val_loss: 0.0543 - val_accuracy: 0.9844\n",
      "Epoch 17/1000\n",
      "375/375 [==============================] - 6s 17ms/step - loss: 0.1292 - accuracy: 0.9608 - val_loss: 0.0527 - val_accuracy: 0.9864\n",
      "Epoch 18/1000\n",
      "375/375 [==============================] - 6s 17ms/step - loss: 0.1290 - accuracy: 0.9605 - val_loss: 0.0508 - val_accuracy: 0.9857\n",
      "Epoch 19/1000\n",
      "375/375 [==============================] - 6s 17ms/step - loss: 0.1277 - accuracy: 0.9609 - val_loss: 0.0502 - val_accuracy: 0.9855\n",
      "Epoch 20/1000\n",
      "375/375 [==============================] - 7s 17ms/step - loss: 0.1247 - accuracy: 0.9609 - val_loss: 0.0520 - val_accuracy: 0.9850\n",
      "Epoch 21/1000\n",
      "375/375 [==============================] - 6s 17ms/step - loss: 0.1185 - accuracy: 0.9625 - val_loss: 0.0500 - val_accuracy: 0.9862\n",
      "Epoch 22/1000\n",
      "375/375 [==============================] - 7s 18ms/step - loss: 0.1171 - accuracy: 0.9635 - val_loss: 0.0506 - val_accuracy: 0.9856\n",
      "Epoch 23/1000\n",
      "375/375 [==============================] - 6s 17ms/step - loss: 0.1171 - accuracy: 0.9633 - val_loss: 0.0493 - val_accuracy: 0.9862\n",
      "Epoch 24/1000\n",
      "375/375 [==============================] - 7s 19ms/step - loss: 0.1184 - accuracy: 0.9640 - val_loss: 0.0461 - val_accuracy: 0.9861\n",
      "Epoch 25/1000\n",
      "375/375 [==============================] - 7s 18ms/step - loss: 0.1168 - accuracy: 0.9633 - val_loss: 0.0478 - val_accuracy: 0.9857\n",
      "Epoch 26/1000\n",
      "375/375 [==============================] - 7s 17ms/step - loss: 0.1127 - accuracy: 0.9652 - val_loss: 0.0470 - val_accuracy: 0.9870\n",
      "Epoch 00026: early stopping\n"
     ]
    }
   ],
   "source": [
    "#training on training set\n",
    "batch_size = 128\n",
    "\n",
    "model.compile(loss= \"categorical_crossentropy\", optimizer = \"adam\", metrics = [\"accuracy\"])\n",
    "\n",
    "es = tf.keras.callbacks.EarlyStopping(monitor='val_loss', mode='min', verbose=1, patience = 2) \n",
    "history = model.fit(x_train, y_train, epochs=1000, batch_size=batch_size, validation_split = 0.2, callbacks=[es]) # 20% validation\n",
    "stopped = es.stopped_epoch"
   ]
  },
  {
   "cell_type": "code",
   "execution_count": 10,
   "id": "92341b66-f41b-4567-9e10-31170fa1dfef",
   "metadata": {},
   "outputs": [
    {
     "data": {
      "image/png": "[encoded data removed]",
      "text/plain": [
       "<Figure size 432x288 with 1 Axes>"
      ]
     },
     "metadata": {
      "needs_background": "light"
     },
     "output_type": "display_data"
    },
    {
     "data": {
      "image/png": "[encoded data removed]",
      "text/plain": [
       "<Figure size 432x288 with 1 Axes>"
      ]
     },
     "metadata": {
      "needs_background": "light"
     },
     "output_type": "display_data"
    }
   ],
   "source": [
    "from matplotlib import pyplot as plt\n",
    "x_plot = list(range(1,stopped+2))\n",
    "\n",
    "def plot_history(network_history):\n",
    "    plt.figure()\n",
    "    plt.xlabel('Epochs')\n",
    "    plt.ylabel('Loss')\n",
    "    plt.plot(x_plot, network_history.history['loss'])\n",
    "    plt.plot(x_plot, network_history.history['val_loss'])\n",
    "    plt.legend(['Training', 'Validation'])\n",
    "\n",
    "    plt.figure()\n",
    "    plt.xlabel('Epochs')\n",
    "    plt.ylabel('Accuracy')\n",
    "    plt.plot(x_plot, network_history.history['accuracy'])\n",
    "    plt.plot(x_plot, network_history.history['val_accuracy'])\n",
    "    plt.legend(['Training', 'Validation'], loc='lower right')\n",
    "    plt.show()\n",
    "\n",
    "\n",
    "plot_history(history) # training loss lower than validation loss because of dropout procedure"
   ]
  },
  {
   "cell_type": "code",
   "execution_count": 11,
   "id": "f8f03c96-a9be-4d53-af6f-f0ce4ed0fdb4",
   "metadata": {},
   "outputs": [
    {
     "name": "stdout",
     "output_type": "stream",
     "text": [
      "313/313 [==============================] - 2s 5ms/step - loss: 0.0443 - accuracy: 0.9863\n",
      "test loss: 0.044311825186014175\n",
      "test accuracy: 0.986299991607666\n"
     ]
    }
   ],
   "source": [
    "#evaluation on test set\n",
    "score = model.evaluate(x_test, y_test)\n",
    "print(\"test loss:\", score[0])\n",
    "print(\"test accuracy:\", score[1])"
   ]
  },
  {
   "cell_type": "code",
   "execution_count": 12,
   "id": "fbef4152-617d-47ba-a374-e8636a0717a9",
   "metadata": {},
   "outputs": [],
   "source": [
    "# confusion matrix for multilabel problems\n",
    "from sklearn.metrics import confusion_matrix\n",
    "\n",
    "predict = model.predict(x_test, batch_size = batch_size)\n",
    "classes =  np.argmax(predict,axis=1)\n",
    "numbers = list(range(0,10))\n",
    "y_test_nc = np.argmax(y_test, axis=1)"
   ]
  },
  {
   "cell_type": "code",
   "execution_count": 13,
   "id": "f45bbe46-2740-4748-b2d1-87ad9f406513",
   "metadata": {},
   "outputs": [
    {
     "data": {
      "image/png": "[encoded data removed]",
      "text/plain": [
       "<Figure size 1080x720 with 2 Axes>"
      ]
     },
     "metadata": {
      "needs_background": "light"
     },
     "output_type": "display_data"
    }
   ],
   "source": [
    "cm = confusion_matrix(y_test_nc, classes)\n",
    "cm_df = pd.DataFrame(cm,\n",
    "                     index = numbers, \n",
    "                     columns = numbers)\n",
    "\n",
    "#Plotting the confusion matrix\n",
    "plt.figure(figsize=(15,10))\n",
    "sns.heatmap(cm_df, annot=True, fmt='g')\n",
    "plt.title('Confusion Matrix')\n",
    "plt.ylabel('Actal Values')\n",
    "plt.xlabel('Predicted Values')\n",
    "plt.show()"
   ]
  }
 ],
 "metadata": {
  "kernelspec": {
   "display_name": "Python 3 (ipykernel)",
   "language": "python",
   "name": "python3"
  },
  "language_info": {
   "codemirror_mode": {
    "name": "ipython",
    "version": 3
   },
   "file_extension": ".py",
   "mimetype": "text/x-python",
   "name": "python",
   "nbconvert_exporter": "python",
   "pygments_lexer": "ipython3",
   "version": "3.7.11"
  }
 },
 "nbformat": 4,
 "nbformat_minor": 5
}
