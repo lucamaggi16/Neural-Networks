{
 "cells": [
  {
   "cell_type": "code",
   "execution_count": 2,
   "metadata": {},
   "outputs": [],
   "source": [
    "%matplotlib inline\n",
    "\n",
    "import numpy as np\n",
    "import sklearn\n",
    "from sklearn import datasets\n",
    "from sklearn.model_selection import train_test_split\n",
    "from sklearn import preprocessing\n",
    "\n",
    "import pandas as pd\n",
    "from matplotlib import pyplot as plt"
   ]
  },
  {
   "cell_type": "code",
   "execution_count": 3,
   "metadata": {},
   "outputs": [],
   "source": [
    "import tensorflow as tf\n",
    "from keras.models import Sequential\n",
    "from keras.layers.core import Dense, Dropout, Activation, Flatten\n",
    "from keras.layers.noise import GaussianNoise\n",
    "from keras.layers.advanced_activations import PReLU\n",
    "from keras.utils import np_utils"
   ]
  },
  {
   "cell_type": "code",
   "execution_count": 4,
   "metadata": {},
   "outputs": [],
   "source": [
    "import sklearn.neighbors._base\n",
    "import sys\n",
    "\n",
    "sys.modules['sklearn.neighbors.base'] = sklearn.neighbors._base"
   ]
  },
  {
   "cell_type": "code",
   "execution_count": 5,
   "metadata": {},
   "outputs": [],
   "source": [
    "from collections import Counter\n",
    "from sklearn.datasets import make_classification\n",
    "\n",
    "from imblearn.over_sampling import SMOTE\n",
    "\n",
    "from imblearn.under_sampling import RandomUnderSampler\n",
    "from imblearn.pipeline import Pipeline\n",
    "from matplotlib import pyplot\n",
    "from numpy import where\n",
    "import seaborn as sns"
   ]
  },
  {
   "cell_type": "code",
   "execution_count": 6,
   "metadata": {
    "id": "8vSiz47HXYYM",
    "tags": []
   },
   "outputs": [],
   "source": [
    "import pickle\n",
    "\n",
    "x_train = pickle.load(open(\"x_train.obj\",\"rb\"))\n",
    "\n",
    "obj_test = pickle.load(open(\"x_test.obj\",\"rb\"))\n",
    "\n",
    "y_train = pickle.load(open(\"y_train.obj\",\"rb\"))"
   ]
  },
  {
   "cell_type": "markdown",
   "metadata": {
    "id": "FH5ja_uiJbr6",
    "tags": []
   },
   "source": [
    "# Predicting grayscale images of letters P - Z."
   ]
  },
  {
   "cell_type": "markdown",
   "metadata": {
    "id": "0-FgzT_cJbsH"
   },
   "source": [
    "## Inspecting the data"
   ]
  },
  {
   "cell_type": "markdown",
   "metadata": {},
   "source": [
    "### Comment\n",
    "\n",
    "An example of the input data is provided below.  \n",
    "The training dataset consists of 14 000 images, 28 x 28 format.  \n",
    "The set to be predicted consists of 8 800 examples.  \n",
    "All the images correspond to one of the letters of the english alphabet comprised between P and Z. Considering the alphabet in terms of positions starting from zero, these letters cover the span from the 16th position to the 26th.  \n",
    "In order to facilitate later plot production a new set of indices, from 0 to 10, has been attributed to these 11 positions.  \n",
    "Furthermore it is useful to note that the values forming the colours of each picture have a range from 0 to 255. "
   ]
  },
  {
   "cell_type": "code",
   "execution_count": 7,
   "metadata": {},
   "outputs": [
    {
     "data": {
      "text/plain": [
       "<matplotlib.image.AxesImage at 0x2ce77a0cec8>"
      ]
     },
     "execution_count": 7,
     "metadata": {},
     "output_type": "execute_result"
    },
    {
     "data": {
      "image/png": "[encoded data removed]",
      "text/plain": [
       "<Figure size 432x288 with 1 Axes>"
      ]
     },
     "metadata": {
      "needs_background": "light"
     },
     "output_type": "display_data"
    }
   ],
   "source": [
    "plt.imshow(x_train[77])"
   ]
  },
  {
   "cell_type": "code",
   "execution_count": 8,
   "metadata": {},
   "outputs": [
    {
     "name": "stdout",
     "output_type": "stream",
     "text": [
      "x_train: (14000, 28, 28), x_test: (8800, 28, 28), y_train: (14000,)\n"
     ]
    }
   ],
   "source": [
    "print(f\"x_train: {x_train.shape}, x_test: {obj_test.shape}, y_train: {y_train.shape}\")"
   ]
  },
  {
   "cell_type": "code",
   "execution_count": 9,
   "metadata": {},
   "outputs": [
    {
     "name": "stdout",
     "output_type": "stream",
     "text": [
      "dimensione minima e massima x_set: 0, 255\n"
     ]
    }
   ],
   "source": [
    "print(f\"dimensione minima e massima x_set: {np.min(x_train[0])}, {np.max(x_train[0])}\")"
   ]
  },
  {
   "cell_type": "code",
   "execution_count": 10,
   "metadata": {},
   "outputs": [
    {
     "data": {
      "text/plain": [
       "(26, 16)"
      ]
     },
     "execution_count": 10,
     "metadata": {},
     "output_type": "execute_result"
    }
   ],
   "source": [
    "np.max(y_train), np.min(y_train)"
   ]
  },
  {
   "cell_type": "code",
   "execution_count": 11,
   "metadata": {},
   "outputs": [
    {
     "data": {
      "text/plain": [
       "(10, 0)"
      ]
     },
     "execution_count": 11,
     "metadata": {},
     "output_type": "execute_result"
    }
   ],
   "source": [
    "# remapping of data positions\n",
    "y_train_series = pd.Series(y_train)\n",
    "mapping = {16: 0, 17:1, 18:2, 19:3, 20:4, 21:5, 22:6, 23:7, 24:8, 25:9, 26:10}\n",
    "y_train_series.replace(mapping, inplace=True)\n",
    "np.max(y_train_series), np.min(y_train_series)"
   ]
  },
  {
   "cell_type": "code",
   "execution_count": 12,
   "metadata": {},
   "outputs": [],
   "source": [
    "y_train = np.asarray(y_train_series)"
   ]
  },
  {
   "cell_type": "markdown",
   "metadata": {
    "id": "PjWrQr5vWTTG",
    "tags": []
   },
   "source": [
    "## Preparing the data"
   ]
  },
  {
   "cell_type": "markdown",
   "metadata": {},
   "source": [
    "### Comment\n",
    "\n",
    "Data are reshaped as a 784 size vector and later they are transformed in a float32 format, this is done to provide uniform values for the model to work with.  \n",
    "A normalization technique is then applied to scale all data between 0 and 1, that is, in colours terms, a grey scale.  \n",
    "The dataset is then split in a training and a test set, the true values of the latter are provided both in a normal vectorial form and in a one-hot encoded version."
   ]
  },
  {
   "cell_type": "code",
   "execution_count": 13,
   "metadata": {
    "id": "J84aUJVUJbsI"
   },
   "outputs": [],
   "source": [
    "x_train = x_train.reshape(14000, 784)\n",
    "obj_test = obj_test.reshape(8800, 784)\n",
    "x_train = x_train.astype(\"float32\")\n",
    "obj_test = obj_test.astype(\"float32\")\n",
    "\n",
    "# Normalization\n",
    "x_train /= 255\n",
    "obj_test /= 255"
   ]
  },
  {
   "cell_type": "code",
   "execution_count": 14,
   "metadata": {},
   "outputs": [],
   "source": [
    "x_train, x_test, y_train_nc, y_test_nc = train_test_split(x_train, y_train, test_size=0.1, random_state=0)\n",
    "y_train =  np_utils.to_categorical(y_train_nc, 11) # one-hot encode\n",
    "y_test =  np_utils.to_categorical(y_test_nc, 11) # one-hot encode"
   ]
  },
  {
   "cell_type": "markdown",
   "metadata": {
    "id": "Eb9aljYxJbsK",
    "tags": []
   },
   "source": [
    "## Building the network"
   ]
  },
  {
   "cell_type": "markdown",
   "metadata": {},
   "source": [
    "### Comment\n",
    "\n",
    "The model consists of a simple fully connected feed-forward neural network. A total of 3 inner layers are used, the nodes in each layer are set to be in a descending order. On top of that an input and an output layer are present aswell.  \n",
    "The input layer takes a 784 vector that corrisponds to a stretched image, originally of the size 28 x 28. The network outputs a 11 dimension result, corrisponding to a number from 0 to 10 (later mapped 16 to 26), that is just a placeholder for a letter from P to Z.  \n",
    "All inner layers are activated by the default ReLu function which, empirically, proves to be optimal in most cases. Having to perform a multilabel classification problem the output layer uses a softmax function.  \n",
    "The problem is not particularly complex, therefore the optimization is provided by a simple mini-batch gradient descent, its learning rate is left to 0.01 (standard for keras). As expected the model converges rather quickly, after little more than 50 epochs.  \n",
    "Given the nature of the problem the categorical cross entropy is used as a loss function, it is indeed ideal for multilabel classification tasks. On the other hand, as a training metric, the accuracy of the model is chosen; this indicates the proportion of data correctyly classified by the model itself.\n",
    "As regularization two procedures are used, first a dropout approach during the building of the model, then an early stopping algorithm during the fitting phase. The dropout has a chance of 20% not to utilize each hidden layer when training on a specific observation.  \n",
    "Parameter inizialization is performed by sampling around +- square root of 6 / (number of inputs + number of outputs)."
   ]
  },
  {
   "cell_type": "code",
   "execution_count": 15,
   "metadata": {
    "id": "AS3zsRlBYHKW"
   },
   "outputs": [],
   "source": [
    "from keras.layers import Dropout "
   ]
  },
  {
   "cell_type": "code",
   "execution_count": 16,
   "metadata": {},
   "outputs": [],
   "source": [
    "initializer = tf.keras.initializers.GlorotUniform\n",
    "\n",
    "\n",
    "model = Sequential()\n",
    "model.add(Dense(128, input_shape=(784,), activation = \"relu\", kernel_initializer=initializer))\n",
    "model.add(Dropout(0.2))\n",
    "model.add(Dense(64, activation = \"relu\", kernel_initializer=initializer))\n",
    "model.add(Dropout(0.2))\n",
    "model.add(Dense(32, activation = \"relu\", kernel_initializer=initializer))\n",
    "model.add(Dropout(0.2))\n",
    "model.add(Dense(11, activation = \"softmax\", kernel_initializer=initializer))\n",
    "\n",
    "model.compile(optimizer='SGD', loss='categorical_crossentropy',metrics=['accuracy'])"
   ]
  },
  {
   "cell_type": "code",
   "execution_count": 17,
   "metadata": {},
   "outputs": [
    {
     "name": "stdout",
     "output_type": "stream",
     "text": [
      "Model: \"sequential\"\n",
      "_________________________________________________________________\n",
      "Layer (type)                 Output Shape              Param #   \n",
      "=================================================================\n",
      "dense (Dense)                (None, 128)               100480    \n",
      "_________________________________________________________________\n",
      "dropout (Dropout)            (None, 128)               0         \n",
      "_________________________________________________________________\n",
      "dense_1 (Dense)              (None, 64)                8256      \n",
      "_________________________________________________________________\n",
      "dropout_1 (Dropout)          (None, 64)                0         \n",
      "_________________________________________________________________\n",
      "dense_2 (Dense)              (None, 32)                2080      \n",
      "_________________________________________________________________\n",
      "dropout_2 (Dropout)          (None, 32)                0         \n",
      "_________________________________________________________________\n",
      "dense_3 (Dense)              (None, 11)                363       \n",
      "=================================================================\n",
      "Total params: 111,179\n",
      "Trainable params: 111,179\n",
      "Non-trainable params: 0\n",
      "_________________________________________________________________\n"
     ]
    }
   ],
   "source": [
    "model.summary()"
   ]
  },
  {
   "cell_type": "markdown",
   "metadata": {
    "id": "8w7UIdtIWuCD"
   },
   "source": [
    "## Analyzing and commenting the training results"
   ]
  },
  {
   "cell_type": "markdown",
   "metadata": {},
   "source": [
    "### Comment\n",
    "\n",
    "The gradient mini-batch size is set to 64, the training is then performed monitoring the decrement in the validation loss.  \n",
    "To find the optimal number of epochs an early stopping algorithm is implemented with a patience of 2, therefore there must be at least two iterations that do not improve the loss in order for the training to be arrested.  \n",
    "Following this procedure the model run through 52 epochs.  \n",
    "To monitor the training process a validation set is created from the trainig set through a 20% split.  \n",
    "As shown in the plots below the validation loss decresed nicely during the training, reaching its minimum; the accuracy constantly improved surpassing a value of 90%."
   ]
  },
  {
   "cell_type": "code",
   "execution_count": 18,
   "metadata": {
    "collapsed": true,
    "id": "4brGmh1BJbsL",
    "jupyter": {
     "outputs_hidden": true
    },
    "tags": []
   },
   "outputs": [
    {
     "name": "stdout",
     "output_type": "stream",
     "text": [
      "Epoch 1/1000\n",
      "158/158 [==============================] - 3s 11ms/step - loss: 2.2820 - accuracy: 0.1909 - val_loss: 2.0630 - val_accuracy: 0.4044\n",
      "Epoch 2/1000\n",
      "158/158 [==============================] - 1s 6ms/step - loss: 1.9540 - accuracy: 0.3455 - val_loss: 1.6149 - val_accuracy: 0.5484\n",
      "Epoch 3/1000\n",
      "158/158 [==============================] - 1s 8ms/step - loss: 1.6316 - accuracy: 0.4602 - val_loss: 1.2811 - val_accuracy: 0.6496\n",
      "Epoch 4/1000\n",
      "158/158 [==============================] - 1s 8ms/step - loss: 1.4121 - accuracy: 0.5328 - val_loss: 1.0808 - val_accuracy: 0.6921\n",
      "Epoch 5/1000\n",
      "158/158 [==============================] - 1s 8ms/step - loss: 1.2813 - accuracy: 0.5787 - val_loss: 0.9698 - val_accuracy: 0.7163\n",
      "Epoch 6/1000\n",
      "158/158 [==============================] - 1s 7ms/step - loss: 1.1573 - accuracy: 0.6228 - val_loss: 0.8839 - val_accuracy: 0.7373\n",
      "Epoch 7/1000\n",
      "158/158 [==============================] - 1s 6ms/step - loss: 1.0996 - accuracy: 0.6470 - val_loss: 0.8282 - val_accuracy: 0.7496\n",
      "Epoch 8/1000\n",
      "158/158 [==============================] - 1s 4ms/step - loss: 1.0538 - accuracy: 0.6561 - val_loss: 0.7864 - val_accuracy: 0.7718\n",
      "Epoch 9/1000\n",
      "158/158 [==============================] - 1s 7ms/step - loss: 0.9914 - accuracy: 0.6814 - val_loss: 0.7487 - val_accuracy: 0.7750\n",
      "Epoch 10/1000\n",
      "158/158 [==============================] - 1s 8ms/step - loss: 0.9418 - accuracy: 0.6978 - val_loss: 0.7120 - val_accuracy: 0.7865\n",
      "Epoch 11/1000\n",
      "158/158 [==============================] - 1s 7ms/step - loss: 0.9031 - accuracy: 0.7082 - val_loss: 0.6786 - val_accuracy: 0.7980\n",
      "Epoch 12/1000\n",
      "158/158 [==============================] - 1s 6ms/step - loss: 0.8717 - accuracy: 0.7264 - val_loss: 0.6516 - val_accuracy: 0.8063\n",
      "Epoch 13/1000\n",
      "158/158 [==============================] - 1s 7ms/step - loss: 0.8474 - accuracy: 0.7349 - val_loss: 0.6292 - val_accuracy: 0.8083\n",
      "Epoch 14/1000\n",
      "158/158 [==============================] - 1s 7ms/step - loss: 0.8031 - accuracy: 0.7472 - val_loss: 0.6047 - val_accuracy: 0.8151\n",
      "Epoch 15/1000\n",
      "158/158 [==============================] - 1s 6ms/step - loss: 0.7780 - accuracy: 0.7553 - val_loss: 0.5881 - val_accuracy: 0.8194\n",
      "Epoch 16/1000\n",
      "158/158 [==============================] - 1s 6ms/step - loss: 0.7616 - accuracy: 0.7628 - val_loss: 0.5702 - val_accuracy: 0.8238\n",
      "Epoch 17/1000\n",
      "158/158 [==============================] - 1s 7ms/step - loss: 0.7384 - accuracy: 0.7690 - val_loss: 0.5512 - val_accuracy: 0.8294\n",
      "Epoch 18/1000\n",
      "158/158 [==============================] - 1s 6ms/step - loss: 0.7259 - accuracy: 0.7754 - val_loss: 0.5334 - val_accuracy: 0.8329\n",
      "Epoch 19/1000\n",
      "158/158 [==============================] - 1s 6ms/step - loss: 0.6842 - accuracy: 0.7890 - val_loss: 0.5193 - val_accuracy: 0.8389\n",
      "Epoch 20/1000\n",
      "158/158 [==============================] - 1s 6ms/step - loss: 0.6783 - accuracy: 0.7932 - val_loss: 0.5048 - val_accuracy: 0.8476\n",
      "Epoch 21/1000\n",
      "158/158 [==============================] - 1s 6ms/step - loss: 0.6603 - accuracy: 0.7977 - val_loss: 0.4882 - val_accuracy: 0.8464\n",
      "Epoch 22/1000\n",
      "158/158 [==============================] - 1s 6ms/step - loss: 0.6428 - accuracy: 0.8012 - val_loss: 0.4785 - val_accuracy: 0.8540\n",
      "Epoch 23/1000\n",
      "158/158 [==============================] - 1s 8ms/step - loss: 0.6280 - accuracy: 0.8108 - val_loss: 0.4676 - val_accuracy: 0.8548\n",
      "Epoch 24/1000\n",
      "158/158 [==============================] - 1s 8ms/step - loss: 0.6020 - accuracy: 0.8154 - val_loss: 0.4573 - val_accuracy: 0.8595\n",
      "Epoch 25/1000\n",
      "158/158 [==============================] - 1s 8ms/step - loss: 0.5916 - accuracy: 0.8183 - val_loss: 0.4424 - val_accuracy: 0.8627\n",
      "Epoch 26/1000\n",
      "158/158 [==============================] - 1s 8ms/step - loss: 0.5787 - accuracy: 0.8226 - val_loss: 0.4313 - val_accuracy: 0.8671\n",
      "Epoch 27/1000\n",
      "158/158 [==============================] - 1s 8ms/step - loss: 0.5770 - accuracy: 0.8245 - val_loss: 0.4256 - val_accuracy: 0.8702\n",
      "Epoch 28/1000\n",
      "158/158 [==============================] - 1s 8ms/step - loss: 0.5453 - accuracy: 0.8324 - val_loss: 0.4196 - val_accuracy: 0.8730\n",
      "Epoch 29/1000\n",
      "158/158 [==============================] - 1s 7ms/step - loss: 0.5364 - accuracy: 0.8384 - val_loss: 0.4107 - val_accuracy: 0.8718\n",
      "Epoch 30/1000\n",
      "158/158 [==============================] - 1s 7ms/step - loss: 0.5323 - accuracy: 0.8375 - val_loss: 0.4063 - val_accuracy: 0.8754\n",
      "Epoch 31/1000\n",
      "158/158 [==============================] - 1s 7ms/step - loss: 0.5227 - accuracy: 0.8420 - val_loss: 0.3942 - val_accuracy: 0.8782\n",
      "Epoch 32/1000\n",
      "158/158 [==============================] - 1s 8ms/step - loss: 0.5055 - accuracy: 0.8426 - val_loss: 0.3885 - val_accuracy: 0.8825\n",
      "Epoch 33/1000\n",
      "158/158 [==============================] - 1s 7ms/step - loss: 0.4954 - accuracy: 0.8521 - val_loss: 0.3785 - val_accuracy: 0.8829\n",
      "Epoch 34/1000\n",
      "158/158 [==============================] - 1s 7ms/step - loss: 0.4841 - accuracy: 0.8555 - val_loss: 0.3750 - val_accuracy: 0.8873\n",
      "Epoch 35/1000\n",
      "158/158 [==============================] - 1s 6ms/step - loss: 0.4762 - accuracy: 0.8562 - val_loss: 0.3684 - val_accuracy: 0.8881\n",
      "Epoch 36/1000\n",
      "158/158 [==============================] - 1s 5ms/step - loss: 0.4726 - accuracy: 0.8588 - val_loss: 0.3681 - val_accuracy: 0.8853\n",
      "Epoch 37/1000\n",
      "158/158 [==============================] - 1s 5ms/step - loss: 0.4661 - accuracy: 0.8596 - val_loss: 0.3581 - val_accuracy: 0.8877\n",
      "Epoch 38/1000\n",
      "158/158 [==============================] - 1s 6ms/step - loss: 0.4563 - accuracy: 0.8612 - val_loss: 0.3524 - val_accuracy: 0.8909\n",
      "Epoch 39/1000\n",
      "158/158 [==============================] - 1s 7ms/step - loss: 0.4392 - accuracy: 0.8679 - val_loss: 0.3480 - val_accuracy: 0.8948\n",
      "Epoch 40/1000\n",
      "158/158 [==============================] - 1s 7ms/step - loss: 0.4318 - accuracy: 0.8684 - val_loss: 0.3463 - val_accuracy: 0.8940\n",
      "Epoch 41/1000\n",
      "158/158 [==============================] - 1s 6ms/step - loss: 0.4362 - accuracy: 0.8654 - val_loss: 0.3427 - val_accuracy: 0.8937\n",
      "Epoch 42/1000\n",
      "158/158 [==============================] - 1s 6ms/step - loss: 0.4268 - accuracy: 0.8742 - val_loss: 0.3376 - val_accuracy: 0.8944\n",
      "Epoch 43/1000\n",
      "158/158 [==============================] - 1s 6ms/step - loss: 0.4160 - accuracy: 0.8757 - val_loss: 0.3342 - val_accuracy: 0.8972\n",
      "Epoch 44/1000\n",
      "158/158 [==============================] - 1s 4ms/step - loss: 0.4114 - accuracy: 0.8785 - val_loss: 0.3293 - val_accuracy: 0.8996\n",
      "Epoch 45/1000\n",
      "158/158 [==============================] - 1s 6ms/step - loss: 0.4108 - accuracy: 0.8744 - val_loss: 0.3238 - val_accuracy: 0.9032\n",
      "Epoch 46/1000\n",
      "158/158 [==============================] - 1s 5ms/step - loss: 0.3998 - accuracy: 0.8787 - val_loss: 0.3220 - val_accuracy: 0.9016\n",
      "Epoch 47/1000\n",
      "158/158 [==============================] - 1s 7ms/step - loss: 0.3893 - accuracy: 0.8804 - val_loss: 0.3196 - val_accuracy: 0.9016\n",
      "Epoch 48/1000\n",
      "158/158 [==============================] - 1s 8ms/step - loss: 0.3912 - accuracy: 0.8848 - val_loss: 0.3195 - val_accuracy: 0.9016\n",
      "Epoch 49/1000\n",
      "158/158 [==============================] - 1s 8ms/step - loss: 0.3842 - accuracy: 0.8834 - val_loss: 0.3184 - val_accuracy: 0.9012\n",
      "Epoch 50/1000\n",
      "158/158 [==============================] - 1s 9ms/step - loss: 0.3772 - accuracy: 0.8851 - val_loss: 0.3121 - val_accuracy: 0.9056\n",
      "Epoch 51/1000\n",
      "158/158 [==============================] - 1s 9ms/step - loss: 0.3682 - accuracy: 0.8894 - val_loss: 0.3125 - val_accuracy: 0.9067\n",
      "Epoch 52/1000\n",
      "158/158 [==============================] - 1s 8ms/step - loss: 0.3705 - accuracy: 0.8860 - val_loss: 0.3148 - val_accuracy: 0.9016\n",
      "Epoch 00052: early stopping\n"
     ]
    }
   ],
   "source": [
    "es = tf.keras.callbacks.EarlyStopping(monitor='val_loss', mode='min', verbose=1, patience = 2) \n",
    "batch_size = 64\n",
    "history = model.fit(x_train, y_train, epochs=1000, batch_size=batch_size, validation_split = 0.2, callbacks=[es]) # 20% validation\n",
    "stopped = es.stopped_epoch"
   ]
  },
  {
   "cell_type": "code",
   "execution_count": 19,
   "metadata": {
    "tags": []
   },
   "outputs": [
    {
     "data": {
      "image/png": "[encoded data removed]",
      "text/plain": [
       "<Figure size 432x288 with 1 Axes>"
      ]
     },
     "metadata": {
      "needs_background": "light"
     },
     "output_type": "display_data"
    },
    {
     "data": {
      "image/png": "[encoded data removed]",
      "text/plain": [
       "<Figure size 432x288 with 1 Axes>"
      ]
     },
     "metadata": {
      "needs_background": "light"
     },
     "output_type": "display_data"
    }
   ],
   "source": [
    "from matplotlib import pyplot as plt\n",
    "x_plot = list(range(1,stopped+2))\n",
    "\n",
    "def plot_history(network_history):\n",
    "    plt.figure()\n",
    "    plt.xlabel('Epochs')\n",
    "    plt.ylabel('Loss')\n",
    "    plt.plot(x_plot, network_history.history['loss'])\n",
    "    plt.plot(x_plot, network_history.history['val_loss'])\n",
    "    plt.legend(['Training', 'Validation'])\n",
    "\n",
    "    plt.figure()\n",
    "    plt.xlabel('Epochs')\n",
    "    plt.ylabel('Accuracy')\n",
    "    plt.plot(x_plot, network_history.history['accuracy'])\n",
    "    plt.plot(x_plot, network_history.history['val_accuracy'])\n",
    "    plt.legend(['Training', 'Validation'], loc='lower right')\n",
    "    plt.show()\n",
    "\n",
    "\n",
    "plot_history(history)"
   ]
  },
  {
   "cell_type": "markdown",
   "metadata": {
    "id": "2jiOZzvyJbsN",
    "tags": []
   },
   "source": [
    "## Validating the model and commenting the results"
   ]
  },
  {
   "cell_type": "markdown",
   "metadata": {},
   "source": [
    "### Comment\n",
    "\n",
    "The validation on the test set, a different one from what was used to train the model, confirms an accuracy value of 91% and a loss function of 0.33.  \n",
    "This means that the model is able to classify correctly 9 images out of 10 when provided with a new set of data.  \n",
    "In order to better evaluate the overall performance a confusion matrix is provided.  \n",
    "The columns of this matrix corrispond to the predicted values, while the rows to the actual values. Each number indicates the amount of time the model predicted each letter. Generally speaking all the letters have been predicted well, in fact, the values on the diagonal are by far the highest for each instance.  \n",
    "As expected the model has an highter rate of failures on similar looking letters, \"v\" and \"u\" or \"v\" and \"y\" pairs are a clear example of this. In general this misclassifications are not too prevalent to hinder the overall performance too much. After calculating the rates of true positives for each letter it is safe to say that the model classifies each instance equally well.  \n",
    "As far as overfitting is concerned in this case it does not appear to be any, probably thanks to the regularization techniques employed."
   ]
  },
  {
   "cell_type": "code",
   "execution_count": 20,
   "metadata": {
    "tags": []
   },
   "outputs": [
    {
     "name": "stdout",
     "output_type": "stream",
     "text": [
      "22/22 [==============================] - 0s 2ms/step - loss: 0.3273 - accuracy: 0.9071\n",
      "\n",
      "accuracy: 90.71%\n",
      "\n",
      "loss: 0.33\n"
     ]
    }
   ],
   "source": [
    "evaluation =  model.evaluate(x_test, y_test, batch_size=batch_size)\n",
    "print(\"\\n%s: %.2f%%\" % (model.metrics_names[1], evaluation[1]*100))\n",
    "print(\"\\n%s: %.2f\" % (model.metrics_names[0], evaluation[0]))"
   ]
  },
  {
   "cell_type": "code",
   "execution_count": 21,
   "metadata": {},
   "outputs": [],
   "source": [
    "from sklearn.metrics import confusion_matrix\n",
    "\n",
    "predict = model.predict(x_test, batch_size = batch_size)\n",
    "classes =  np.argmax(predict,axis=1)"
   ]
  },
  {
   "cell_type": "code",
   "execution_count": 22,
   "metadata": {},
   "outputs": [],
   "source": [
    "import string\n",
    "letters = list(string.ascii_lowercase)[15:]"
   ]
  },
  {
   "cell_type": "code",
   "execution_count": 23,
   "metadata": {},
   "outputs": [
    {
     "data": {
      "image/png": "[encoded data removed]",
      "text/plain": [
       "<Figure size 1080x720 with 2 Axes>"
      ]
     },
     "metadata": {
      "needs_background": "light"
     },
     "output_type": "display_data"
    }
   ],
   "source": [
    "# Creating  a confusion matrix\n",
    "cm = confusion_matrix(y_test_nc, classes)\n",
    "\n",
    "# Creating a dataframe for a array-formatted Confusion matrix,so it will be easy for plotting.\n",
    "cm_df = pd.DataFrame(cm,\n",
    "                     index = letters, \n",
    "                     columns = letters)\n",
    "\n",
    "# Plotting the confusion matrix\n",
    "plt.figure(figsize=(15,10))\n",
    "sns.heatmap(cm_df, annot=True, fmt='g')\n",
    "plt.title('Confusion Matrix')\n",
    "plt.ylabel('Actal Values')\n",
    "plt.xlabel('Predicted Values')\n",
    "plt.show()"
   ]
  },
  {
   "cell_type": "markdown",
   "metadata": {
    "id": "5MhCwXroWmf9"
   },
   "source": [
    "## Making predictions (on the test set)"
   ]
  },
  {
   "cell_type": "markdown",
   "metadata": {},
   "source": [
    "### Comment\n",
    "\n",
    "All in all I expect the model to perform quite well. As seen in the previous phase the accuracy should be, in general, aroun 91%.  \n",
    "I also expect the majority of the error to be concentrated around the letters {\"v\", \"u\",\"y\", \"w\"} and, for some reason, {\"p\", \"r\"} and {\"s\", \"q\"}. Whithin this three clusters the model seldom mistakes one letter for another. Still, these errors are relatively small compared to the correct prediction for each instance and, probably, they are caused by a bad writing present in some images in the training set."
   ]
  },
  {
   "cell_type": "code",
   "execution_count": 24,
   "metadata": {
    "id": "fbtA2vJRWpMY"
   },
   "outputs": [],
   "source": [
    "predictions = model.predict(obj_test, batch_size = batch_size)\n",
    "predictions_classes =  np.argmax(predictions,axis=1)\n",
    "predictions_one_hot = np_utils.to_categorical(predictions_classes, 11)"
   ]
  },
  {
   "cell_type": "code",
   "execution_count": 25,
   "metadata": {
    "tags": []
   },
   "outputs": [],
   "source": [
    "mapp = {}\n",
    "k= 0\n",
    "for n in list(range(0,11)):\n",
    "    mapp[n] =  letters[k]\n",
    "    k +=1"
   ]
  },
  {
   "cell_type": "code",
   "execution_count": 26,
   "metadata": {},
   "outputs": [],
   "source": [
    "predictions_letters = pd.Series(predictions_classes)\n",
    "predictions_letters.replace(mapp, inplace = True)"
   ]
  },
  {
   "cell_type": "code",
   "execution_count": 27,
   "metadata": {},
   "outputs": [
    {
     "data": {
      "text/plain": [
       "0       v\n",
       "1       z\n",
       "2       y\n",
       "3       s\n",
       "4       t\n",
       "       ..\n",
       "8795    x\n",
       "8796    x\n",
       "8797    v\n",
       "8798    w\n",
       "8799    t\n",
       "Length: 8800, dtype: object"
      ]
     },
     "execution_count": 27,
     "metadata": {},
     "output_type": "execute_result"
    }
   ],
   "source": [
    "predictions_letters"
   ]
  },
  {
   "cell_type": "code",
   "execution_count": 28,
   "metadata": {},
   "outputs": [],
   "source": [
    "mapping_inverse = {0: 16, 1:17, 2:18, 3:19, 4:20, 5:21, 6:22, 7:23, 8:24, 9:25, 10:26}\n",
    "predictions_classes_inverse = pd.Series(predictions_classes)\n",
    "predictions_classes_inverse.replace(mapping_inverse, inplace=True)"
   ]
  },
  {
   "cell_type": "code",
   "execution_count": 29,
   "metadata": {},
   "outputs": [
    {
     "data": {
      "text/plain": [
       "0       22\n",
       "1       26\n",
       "2       25\n",
       "3       19\n",
       "4       20\n",
       "        ..\n",
       "8795    24\n",
       "8796    24\n",
       "8797    22\n",
       "8798    23\n",
       "8799    20\n",
       "Length: 8800, dtype: int64"
      ]
     },
     "execution_count": 29,
     "metadata": {},
     "output_type": "execute_result"
    }
   ],
   "source": [
    "predictions_classes_inverse"
   ]
  },
  {
   "cell_type": "code",
   "execution_count": 30,
   "metadata": {},
   "outputs": [],
   "source": [
    "np.savetxt(r'C:\\Users\\lucam\\Desktop\\Uni\\Advanced Machine Learning\\Assignment 2\\Luca_Maggi_866654_score2.txt', predictions_classes_inverse, fmt='%d')"
   ]
  },
  {
   "cell_type": "markdown",
   "metadata": {
    "id": "5DvuOTd2pZ3r"
   },
   "source": [
    "# 2. Developement of a simple auto-encoder model"
   ]
  },
  {
   "cell_type": "markdown",
   "metadata": {
    "id": "rrhYuXdUp0s7"
   },
   "source": [
    "## Building the network"
   ]
  },
  {
   "cell_type": "markdown",
   "metadata": {},
   "source": [
    "### Comment\n",
    "\n",
    "A simple autoencoder consisting of just an encoding layer and a decoding layer is presented. The dimensions are reduced from 784 to 32.  \n",
    "As far as the optimization goes it is used a variant of the gradient descent algorithm, the ADAM with mini-batches, each batch has a size of 1024; the number of epochs is set to 60.  \n",
    "The loss is the binary cross entropy while the metric monitored is the mean square error. An image is made by a number of pixels, 784 in our case, as a loss, for each predicted pixel, it is given the probability that it will resamble the original one in a binary form. The MSE follows a similar idea, comparing how close the real pixels are to the model predictions, this time on a continuous scale. In order to follow this approach the output function of the encoder is a sigmoid.  \n",
    "The plot shows a good reduction in the loss function during the model fitting process."
   ]
  },
  {
   "cell_type": "code",
   "execution_count": 31,
   "metadata": {
    "id": "7ch1w7j5qKGJ"
   },
   "outputs": [],
   "source": [
    "from keras.layers import Input, Dense\n",
    "from keras.models import Model"
   ]
  },
  {
   "cell_type": "code",
   "execution_count": 32,
   "metadata": {},
   "outputs": [],
   "source": [
    "encoding_dim = 32 \n",
    "input_img = Input(shape=(784,))\n",
    "encoded = Dense(encoding_dim, activation='relu')(input_img)\n",
    "decoded = Dense(784, activation='sigmoid')(encoded)\n",
    "autoencoder = Model(input_img, decoded)\n",
    "\n",
    "encoder = Model(input_img, encoded)\n",
    "\n",
    "encoded_input = Input(shape=(encoding_dim,))\n",
    "decoder_layer = autoencoder.layers[-1] #decoded\n",
    "decoder = Model(encoded_input, decoder_layer(encoded_input))"
   ]
  },
  {
   "cell_type": "code",
   "execution_count": 35,
   "metadata": {},
   "outputs": [
    {
     "name": "stdout",
     "output_type": "stream",
     "text": [
      "Model: \"model\"\n",
      "_________________________________________________________________\n",
      "Layer (type)                 Output Shape              Param #   \n",
      "=================================================================\n",
      "input_1 (InputLayer)         [(None, 784)]             0         \n",
      "_________________________________________________________________\n",
      "dense_4 (Dense)              (None, 32)                25120     \n",
      "_________________________________________________________________\n",
      "dense_5 (Dense)              (None, 784)               25872     \n",
      "=================================================================\n",
      "Total params: 50,992\n",
      "Trainable params: 50,992\n",
      "Non-trainable params: 0\n",
      "_________________________________________________________________\n"
     ]
    }
   ],
   "source": [
    "from tensorflow.keras.optimizers import SGD \n",
    "\n",
    "autoencoder.compile(optimizer=\"adam\", loss='binary_crossentropy', metrics = [\"mse\"])\n",
    "autoencoder.summary()"
   ]
  },
  {
   "cell_type": "code",
   "execution_count": 36,
   "metadata": {
    "collapsed": true,
    "jupyter": {
     "outputs_hidden": true
    },
    "tags": []
   },
   "outputs": [
    {
     "name": "stdout",
     "output_type": "stream",
     "text": [
      "Epoch 1/60\n",
      "13/13 [==============================] - 2s 58ms/step - loss: 0.6605 - mse: 0.2009 - val_loss: 0.5811 - val_mse: 0.1632\n",
      "Epoch 2/60\n",
      "13/13 [==============================] - 0s 35ms/step - loss: 0.4976 - mse: 0.1277 - val_loss: 0.4167 - val_mse: 0.0975\n",
      "Epoch 3/60\n",
      "13/13 [==============================] - 0s 36ms/step - loss: 0.3906 - mse: 0.0905 - val_loss: 0.3715 - val_mse: 0.0868\n",
      "Epoch 4/60\n",
      "13/13 [==============================] - 0s 36ms/step - loss: 0.3645 - mse: 0.0851 - val_loss: 0.3573 - val_mse: 0.0836\n",
      "Epoch 5/60\n",
      "13/13 [==============================] - 0s 37ms/step - loss: 0.3520 - mse: 0.0815 - val_loss: 0.3456 - val_mse: 0.0795\n",
      "Epoch 6/60\n",
      "13/13 [==============================] - 0s 36ms/step - loss: 0.3401 - mse: 0.0772 - val_loss: 0.3333 - val_mse: 0.0750\n",
      "Epoch 7/60\n",
      "13/13 [==============================] - 0s 36ms/step - loss: 0.3279 - mse: 0.0728 - val_loss: 0.3216 - val_mse: 0.0707\n",
      "Epoch 8/60\n",
      "13/13 [==============================] - 0s 34ms/step - loss: 0.3167 - mse: 0.0687 - val_loss: 0.3110 - val_mse: 0.0670\n",
      "Epoch 9/60\n",
      "13/13 [==============================] - 0s 36ms/step - loss: 0.3066 - mse: 0.0651 - val_loss: 0.3016 - val_mse: 0.0636\n",
      "Epoch 10/60\n",
      "13/13 [==============================] - 0s 31ms/step - loss: 0.2978 - mse: 0.0620 - val_loss: 0.2935 - val_mse: 0.0608\n",
      "Epoch 11/60\n",
      "13/13 [==============================] - 0s 37ms/step - loss: 0.2902 - mse: 0.0594 - val_loss: 0.2864 - val_mse: 0.0583\n",
      "Epoch 12/60\n",
      "13/13 [==============================] - 1s 39ms/step - loss: 0.2835 - mse: 0.0570 - val_loss: 0.2798 - val_mse: 0.0560\n",
      "Epoch 13/60\n",
      "13/13 [==============================] - 0s 36ms/step - loss: 0.2771 - mse: 0.0548 - val_loss: 0.2734 - val_mse: 0.0538\n",
      "Epoch 14/60\n",
      "13/13 [==============================] - 0s 35ms/step - loss: 0.2709 - mse: 0.0527 - val_loss: 0.2675 - val_mse: 0.0517\n",
      "Epoch 15/60\n",
      "13/13 [==============================] - 0s 36ms/step - loss: 0.2650 - mse: 0.0506 - val_loss: 0.2615 - val_mse: 0.0496\n",
      "Epoch 16/60\n",
      "13/13 [==============================] - 0s 36ms/step - loss: 0.2593 - mse: 0.0486 - val_loss: 0.2561 - val_mse: 0.0477\n",
      "Epoch 17/60\n",
      "13/13 [==============================] - 0s 36ms/step - loss: 0.2540 - mse: 0.0468 - val_loss: 0.2508 - val_mse: 0.0460\n",
      "Epoch 18/60\n",
      "13/13 [==============================] - 0s 34ms/step - loss: 0.2489 - mse: 0.0451 - val_loss: 0.2460 - val_mse: 0.0443\n",
      "Epoch 19/60\n",
      "13/13 [==============================] - 0s 38ms/step - loss: 0.2443 - mse: 0.0435 - val_loss: 0.2416 - val_mse: 0.0429\n",
      "Epoch 20/60\n",
      "13/13 [==============================] - 0s 34ms/step - loss: 0.2399 - mse: 0.0420 - val_loss: 0.2373 - val_mse: 0.0415\n",
      "Epoch 21/60\n",
      "13/13 [==============================] - 1s 41ms/step - loss: 0.2357 - mse: 0.0406 - val_loss: 0.2333 - val_mse: 0.0401\n",
      "Epoch 22/60\n",
      "13/13 [==============================] - 0s 34ms/step - loss: 0.2318 - mse: 0.0393 - val_loss: 0.2295 - val_mse: 0.0388\n",
      "Epoch 23/60\n",
      "13/13 [==============================] - 1s 39ms/step - loss: 0.2280 - mse: 0.0380 - val_loss: 0.2258 - val_mse: 0.0376\n",
      "Epoch 24/60\n",
      "13/13 [==============================] - 0s 34ms/step - loss: 0.2244 - mse: 0.0368 - val_loss: 0.2223 - val_mse: 0.0364\n",
      "Epoch 25/60\n",
      "13/13 [==============================] - 0s 34ms/step - loss: 0.2209 - mse: 0.0356 - val_loss: 0.2189 - val_mse: 0.0352\n",
      "Epoch 26/60\n",
      "13/13 [==============================] - 0s 38ms/step - loss: 0.2176 - mse: 0.0346 - val_loss: 0.2157 - val_mse: 0.0342\n",
      "Epoch 27/60\n",
      "13/13 [==============================] - 0s 35ms/step - loss: 0.2145 - mse: 0.0335 - val_loss: 0.2127 - val_mse: 0.0332\n",
      "Epoch 28/60\n",
      "13/13 [==============================] - 0s 35ms/step - loss: 0.2115 - mse: 0.0325 - val_loss: 0.2099 - val_mse: 0.0322\n",
      "Epoch 29/60\n",
      "13/13 [==============================] - 0s 34ms/step - loss: 0.2088 - mse: 0.0316 - val_loss: 0.2071 - val_mse: 0.0313\n",
      "Epoch 30/60\n",
      "13/13 [==============================] - 0s 34ms/step - loss: 0.2061 - mse: 0.0307 - val_loss: 0.2045 - val_mse: 0.0305\n",
      "Epoch 31/60\n",
      "13/13 [==============================] - 1s 39ms/step - loss: 0.2036 - mse: 0.0299 - val_loss: 0.2022 - val_mse: 0.0298\n",
      "Epoch 32/60\n",
      "13/13 [==============================] - 0s 39ms/step - loss: 0.2014 - mse: 0.0292 - val_loss: 0.2000 - val_mse: 0.0291\n",
      "Epoch 33/60\n",
      "13/13 [==============================] - 1s 40ms/step - loss: 0.1992 - mse: 0.0285 - val_loss: 0.1979 - val_mse: 0.0284\n",
      "Epoch 34/60\n",
      "13/13 [==============================] - 0s 33ms/step - loss: 0.1973 - mse: 0.0279 - val_loss: 0.1960 - val_mse: 0.0277\n",
      "Epoch 35/60\n",
      "13/13 [==============================] - 0s 35ms/step - loss: 0.1954 - mse: 0.0273 - val_loss: 0.1942 - val_mse: 0.0271\n",
      "Epoch 36/60\n",
      "13/13 [==============================] - 0s 34ms/step - loss: 0.1936 - mse: 0.0267 - val_loss: 0.1924 - val_mse: 0.0266\n",
      "Epoch 37/60\n",
      "13/13 [==============================] - 0s 34ms/step - loss: 0.1919 - mse: 0.0261 - val_loss: 0.1909 - val_mse: 0.0261\n",
      "Epoch 38/60\n",
      "13/13 [==============================] - 1s 41ms/step - loss: 0.1904 - mse: 0.0257 - val_loss: 0.1893 - val_mse: 0.0256\n",
      "Epoch 39/60\n",
      "13/13 [==============================] - 0s 35ms/step - loss: 0.1890 - mse: 0.0252 - val_loss: 0.1879 - val_mse: 0.0251\n",
      "Epoch 40/60\n",
      "13/13 [==============================] - 0s 34ms/step - loss: 0.1875 - mse: 0.0247 - val_loss: 0.1865 - val_mse: 0.0246\n",
      "Epoch 41/60\n",
      "13/13 [==============================] - 0s 37ms/step - loss: 0.1862 - mse: 0.0243 - val_loss: 0.1852 - val_mse: 0.0243\n",
      "Epoch 42/60\n",
      "13/13 [==============================] - 0s 33ms/step - loss: 0.1849 - mse: 0.0239 - val_loss: 0.1840 - val_mse: 0.0239\n",
      "Epoch 43/60\n",
      "13/13 [==============================] - 0s 33ms/step - loss: 0.1837 - mse: 0.0235 - val_loss: 0.1828 - val_mse: 0.0235\n",
      "Epoch 44/60\n",
      "13/13 [==============================] - 0s 34ms/step - loss: 0.1826 - mse: 0.0232 - val_loss: 0.1817 - val_mse: 0.0231\n",
      "Epoch 45/60\n",
      "13/13 [==============================] - 0s 32ms/step - loss: 0.1814 - mse: 0.0228 - val_loss: 0.1806 - val_mse: 0.0228\n",
      "Epoch 46/60\n",
      "13/13 [==============================] - 0s 32ms/step - loss: 0.1804 - mse: 0.0225 - val_loss: 0.1797 - val_mse: 0.0225\n",
      "Epoch 47/60\n",
      "13/13 [==============================] - 1s 41ms/step - loss: 0.1794 - mse: 0.0222 - val_loss: 0.1786 - val_mse: 0.0221\n",
      "Epoch 48/60\n",
      "13/13 [==============================] - 0s 34ms/step - loss: 0.1785 - mse: 0.0219 - val_loss: 0.1776 - val_mse: 0.0218\n",
      "Epoch 49/60\n",
      "13/13 [==============================] - 0s 34ms/step - loss: 0.1776 - mse: 0.0216 - val_loss: 0.1768 - val_mse: 0.0215\n",
      "Epoch 50/60\n",
      "13/13 [==============================] - 0s 34ms/step - loss: 0.1766 - mse: 0.0213 - val_loss: 0.1759 - val_mse: 0.0213\n",
      "Epoch 51/60\n",
      "13/13 [==============================] - 0s 34ms/step - loss: 0.1758 - mse: 0.0210 - val_loss: 0.1751 - val_mse: 0.0210\n",
      "Epoch 52/60\n",
      "13/13 [==============================] - 0s 34ms/step - loss: 0.1750 - mse: 0.0208 - val_loss: 0.1743 - val_mse: 0.0207\n",
      "Epoch 53/60\n",
      "13/13 [==============================] - 0s 33ms/step - loss: 0.1742 - mse: 0.0205 - val_loss: 0.1735 - val_mse: 0.0205\n",
      "Epoch 54/60\n",
      "13/13 [==============================] - 0s 34ms/step - loss: 0.1734 - mse: 0.0203 - val_loss: 0.1727 - val_mse: 0.0203\n",
      "Epoch 55/60\n",
      "13/13 [==============================] - 0s 34ms/step - loss: 0.1727 - mse: 0.0200 - val_loss: 0.1720 - val_mse: 0.0200\n",
      "Epoch 56/60\n",
      "13/13 [==============================] - 0s 34ms/step - loss: 0.1720 - mse: 0.0198 - val_loss: 0.1713 - val_mse: 0.0198\n",
      "Epoch 57/60\n",
      "13/13 [==============================] - 0s 34ms/step - loss: 0.1713 - mse: 0.0196 - val_loss: 0.1707 - val_mse: 0.0196\n",
      "Epoch 58/60\n",
      "13/13 [==============================] - 0s 34ms/step - loss: 0.1707 - mse: 0.0194 - val_loss: 0.1700 - val_mse: 0.0194\n",
      "Epoch 59/60\n",
      "13/13 [==============================] - 0s 35ms/step - loss: 0.1701 - mse: 0.0192 - val_loss: 0.1695 - val_mse: 0.0192\n",
      "Epoch 60/60\n",
      "13/13 [==============================] - 0s 36ms/step - loss: 0.1694 - mse: 0.0190 - val_loss: 0.1688 - val_mse: 0.0190\n"
     ]
    }
   ],
   "source": [
    "h = autoencoder.fit(x_train,x_train,\n",
    "                epochs=60,\n",
    "                batch_size=1024,\n",
    "                shuffle=True,\n",
    "                validation_data = (x_test, x_test))"
   ]
  },
  {
   "cell_type": "code",
   "execution_count": 37,
   "metadata": {},
   "outputs": [
    {
     "data": {
      "image/png": "[encoded data removed]",
      "text/plain": [
       "<Figure size 432x288 with 1 Axes>"
      ]
     },
     "metadata": {
      "needs_background": "light"
     },
     "output_type": "display_data"
    }
   ],
   "source": [
    "plt.plot(h.history['loss'])\n",
    "plt.plot(h.history['val_loss'])\n",
    "plt.title('model train vs validation loss')\n",
    "plt.ylabel('loss')\n",
    "plt.xlabel('epoch')\n",
    "plt.legend(['train', 'validation'], loc='upper right')\n",
    "plt.show()"
   ]
  },
  {
   "cell_type": "markdown",
   "metadata": {
    "id": "IbcGgMHmqNVL",
    "tags": []
   },
   "source": [
    "## Inspecting the visual results"
   ]
  },
  {
   "cell_type": "code",
   "execution_count": 38,
   "metadata": {
    "id": "XpJuD0dwqje4"
   },
   "outputs": [
    {
     "data": {
      "image/png": "[encoded data removed]",
      "text/plain": [
       "<Figure size 1440x288 with 20 Axes>"
      ]
     },
     "metadata": {
      "needs_background": "light"
     },
     "output_type": "display_data"
    }
   ],
   "source": [
    "x_selected = x_test\n",
    "encoded_imgs = encoder.predict(x_selected)\n",
    "decoded_imgs = decoder.predict(encoded_imgs)\n",
    "\n",
    "n = 10 \n",
    "plt.figure(figsize=(20, 4))\n",
    "for i in range(n):\n",
    "    # original\n",
    "    ax = plt.subplot(2, n, i + 1)\n",
    "    plt.imshow(x_selected[i].reshape(28, 28))\n",
    "    plt.gray()\n",
    "    ax.get_xaxis().set_visible(False)\n",
    "    ax.get_yaxis().set_visible(False)\n",
    "\n",
    "    # reconstruction\n",
    "    ax = plt.subplot(2, n, i + 1 + n)\n",
    "    plt.imshow(decoded_imgs[i].reshape(28, 28))\n",
    "    plt.gray()\n",
    "    ax.get_xaxis().set_visible(False)\n",
    "    ax.get_yaxis().set_visible(False)\n",
    "plt.show()"
   ]
  },
  {
   "cell_type": "markdown",
   "metadata": {
    "id": "YXefW3LIqrDS",
    "tags": []
   },
   "source": [
    "# 3. Use and evaluation of the encoded representation generated by the auto-encoder to solve the problem of supervised classification.\n",
    "\n",
    "The idea is to take the encoded representation generated by the autoencoder developed in Section 2., and classify letters based on this representation.\n",
    "\n",
    "In other words, instead of feeding images directly thought a classifier (can be a Neural Network, but also a machine learning algorithm such as SVM, RF..), we can try to use the encoded representations as input for the classification task."
   ]
  },
  {
   "cell_type": "markdown",
   "metadata": {},
   "source": [
    "### Comment\n",
    "\n",
    "In general what appears to happen is a predictable decline in the accuracy, paired with an higher value for the loss function.  \n",
    "The accuracy declined by 3%; a new confusion matrix is provided for a better evaluation of the results.  \n",
    "As it can be seen we have an higher number of misclassifications, but, in general, the values of the diagonal are still pretty consistent.  \n",
    "A slight decrease in the accuracy was expected given the less define nature of the data, but, all in all, it is not that drastic or invalidating."
   ]
  },
  {
   "cell_type": "code",
   "execution_count": 39,
   "metadata": {},
   "outputs": [],
   "source": [
    "encoded_imgs = encoder.predict(x_test)\n",
    "decoded_imgs = decoder.predict(encoded_imgs)"
   ]
  },
  {
   "cell_type": "code",
   "execution_count": 40,
   "metadata": {
    "tags": []
   },
   "outputs": [
    {
     "name": "stdout",
     "output_type": "stream",
     "text": [
      "22/22 [==============================] - 0s 2ms/step - loss: 0.4345 - accuracy: 0.8800\n",
      "\n",
      "accuracy: 88.00%\n",
      "\n",
      "loss: 0.43\n"
     ]
    }
   ],
   "source": [
    "evaluation =  model.evaluate(decoded_imgs, y_test, batch_size=batch_size)\n",
    "print(\"\\n%s: %.2f%%\" % (model.metrics_names[1], evaluation[1]*100))\n",
    "print(\"\\n%s: %.2f\" % (model.metrics_names[0], evaluation[0]))"
   ]
  },
  {
   "cell_type": "code",
   "execution_count": 41,
   "metadata": {},
   "outputs": [],
   "source": [
    "from sklearn.metrics import confusion_matrix\n",
    "\n",
    "predict = model.predict(decoded_imgs, batch_size = batch_size)\n",
    "classes =  np.argmax(predict,axis=1)"
   ]
  },
  {
   "cell_type": "code",
   "execution_count": 42,
   "metadata": {},
   "outputs": [
    {
     "data": {
      "image/png": "[encoded data removed]",
      "text/plain": [
       "<Figure size 1080x720 with 2 Axes>"
      ]
     },
     "metadata": {
      "needs_background": "light"
     },
     "output_type": "display_data"
    }
   ],
   "source": [
    "cm = confusion_matrix(y_test_nc, classes)\n",
    "cm_df = pd.DataFrame(cm,\n",
    "                     index = letters, \n",
    "                     columns = letters)\n",
    "\n",
    "#Plotting the confusion matrix\n",
    "plt.figure(figsize=(15,10))\n",
    "sns.heatmap(cm_df, annot=True, fmt='g')\n",
    "plt.title('Confusion Matrix')\n",
    "plt.ylabel('Actal Values')\n",
    "plt.xlabel('Predicted Values')\n",
    "plt.show()"
   ]
  }
 ],
 "metadata": {
  "colab": {
   "collapsed_sections": [],
   "name": "Predicting_Letters_template.ipynb",
   "provenance": [
    {
     "file_id": "1YdFlaWui8GT49726961jW59uGhYlylFZ",
     "timestamp": 1636024086590
    },
    {
     "file_id": "1FIc6vyzPoANQlsclhkNlLSJR7dOyAV1r",
     "timestamp": 1634928405767
    }
   ]
  },
  "kernelspec": {
   "display_name": "Python 3 (ipykernel)",
   "language": "python",
   "name": "python3"
  },
  "language_info": {
   "codemirror_mode": {
    "name": "ipython",
    "version": 3
   },
   "file_extension": ".py",
   "mimetype": "text/x-python",
   "name": "python",
   "nbconvert_exporter": "python",
   "pygments_lexer": "ipython3",
   "version": "3.7.11"
  }
 },
 "nbformat": 4,
 "nbformat_minor": 4
}
